{
 "cells": [
  {
   "cell_type": "code",
   "execution_count": 14,
   "metadata": {},
   "outputs": [],
   "source": [
    "OUTPUT_DIR = \"life_expectancy/data/\"\n",
    "\n",
    "DATA_LOCATION = OUTPUT_DIR+\"eu_life_expectancy_raw.tsv\"\n",
    "PT_FILE_NAME = OUTPUT_DIR+\"pt_life_expectancy_expected.csv\"\n",
    "EU_FILE_NAME = OUTPUT_DIR+\"eu_life_expectancy_expected.csv\""
   ]
  },
  {
   "cell_type": "code",
   "execution_count": 16,
   "metadata": {},
   "outputs": [],
   "source": [
    "from life_expectancy.data_access import load_data, save_data\n",
    "from life_expectancy.cleaning import clean_data"
   ]
  },
  {
   "cell_type": "code",
   "execution_count": 17,
   "metadata": {},
   "outputs": [
    {
     "name": "stderr",
     "output_type": "stream",
     "text": [
      "/nfs/backup/sb_tom_001/fddelgado/faast-test/FaastTest/life_expectancy/cleaning.py:54: FutureWarning: The default value of regex will change from True to False in a future version.\n",
      "  data['value'] = data['value'].str.replace(r'[^\\d\\.]', '')\n"
     ]
    }
   ],
   "source": [
    "data = load_data(DATA_LOCATION)\n",
    "dataframe = data.iloc[:100]\n",
    "save_data(dataframe, EU_FILE_NAME)\n",
    "data = clean_data(argv = [\"pt\"], data=dataframe).reset_index(drop=True)\n",
    "save_data(data, PT_FILE_NAME)"
   ]
  }
 ],
 "metadata": {
  "kernelspec": {
   "display_name": "Python 3",
   "language": "python",
   "name": "python3"
  },
  "language_info": {
   "codemirror_mode": {
    "name": "ipython",
    "version": 3
   },
   "file_extension": ".py",
   "mimetype": "text/x-python",
   "name": "python",
   "nbconvert_exporter": "python",
   "pygments_lexer": "ipython3",
   "version": "3.7.5"
  },
  "orig_nbformat": 4,
  "vscode": {
   "interpreter": {
    "hash": "406b3345feae4c90a2166a2d5a01442dfc1260e5f855e79f53206f45e35306bc"
   }
  }
 },
 "nbformat": 4,
 "nbformat_minor": 2
}
